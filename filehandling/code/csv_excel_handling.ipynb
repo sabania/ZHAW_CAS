{
    "cells": [
        {
            "cell_type": "markdown",
            "metadata": {},
            "source": [
                "# Handling Excel & CSV Files with Pandas\n",
                "\n",
                "Welcome to this **beginner-friendly** notebook on **Excel/CSV** handling in Python with **Pandas**. We’ll cover:\n",
                "1. Basic concepts of Excel/CSV files\n",
                "2. Reading CSV/Excel with Pandas (`pd.read_csv`, `pd.read_excel`)\n",
                "3. Common transformations (merging, filtering, splitting)\n",
                "4. Exporting data back to CSV/Excel\n",
                "5. **Hands-on exercises** with placeholders\n",
                "6. An **AI prompt** example to generate code automatically\n",
                "7. Relevance for **translation/localization** tasks\n",
                "\n",
                "Let’s dive in!"
            ]
        },
        {
            "cell_type": "markdown",
            "metadata": {},
            "source": [
                "## 1. Introduction to CSV/Excel Files\n",
                "\n",
                "### 1.1 CSV (Comma-Separated Values)\n",
                "- A **plain text** format, where rows are separated by **newlines** and columns by **commas** (or another delimiter like `;` or `\\t`).\n",
                "- Easy to edit with any text editor, but has no **rich formatting** (colors, formulas, etc.).\n",
                "\n",
                "### 1.2 Excel (XLSX)\n",
                "- A **binary** or **Open XML** format (depending on the version) used by Microsoft Excel.\n",
                "- Can contain **multiple sheets**, **formulas**, **styles**, etc.\n",
                "- Often used for collaboration, but reading/writing requires specialized libraries.\n",
                "\n",
                "In **translation/localization** workflows, CSV/Excel files might contain **string tables**, **translations**, **metadata**, or **terminology lists** that need to be updated or extracted."
            ]
        },
        {
            "cell_type": "markdown",
            "metadata": {},
            "source": [
                "## 2. Setting Up & Importing Pandas\n",
                "\n",
                "First, ensure Pandas is installed:\n",
                "```bash\n",
                "pip install pandas openpyxl\n",
                "```\n",
                "- `pandas` is the main library for data manipulation.\n",
                "- `openpyxl` is often needed for Excel files (`.xlsx`).\n",
                "\n",
                "Then import it in Python:\n",
                "```python\n",
                "import pandas as pd\n",
                "```"
            ]
        },
        {
            "cell_type": "code",
            "execution_count": null,
            "metadata": {},
            "outputs": [],
            "source": [
                "import pandas as pd\n",
                "print(\"Pandas version:\", pd.__version__)"
            ]
        },
        {
            "cell_type": "markdown",
            "metadata": {},
            "source": [
                "## 3. Reading CSV/Excel Files\n",
                "\n",
                "### 3.1 CSV\n",
                "```python\n",
                "df = pd.read_csv('example.csv', encoding='utf-8')\n",
                "```\n",
                "You can specify **delimiters** (e.g. `sep=';'`), **headers**, or **encodings**.\n",
                "\n",
                "### 3.2 Excel\n",
                "```python\n",
                "df_excel = pd.read_excel('example.xlsx', sheet_name='Sheet1')\n",
                "```\n",
                "You can also choose `sheet_name` (like `'Sheet1'` or an integer), and Pandas will return a DataFrame of that sheet’s content."
            ]
        },
        {
            "cell_type": "code",
            "execution_count": null,
            "metadata": {},
            "outputs": [],
            "source": [
                "# Example code to read CSV\n",
                "df_csv = pd.read_csv('../files/example.csv', encoding='utf-8')  # adjust path as needed\n",
                "df_csv.head()  # display first 5 rows"
            ]
        },
        {
            "cell_type": "code",
            "execution_count": null,
            "metadata": {},
            "outputs": [],
            "source": [
                "# Example code to read Excel\n",
                "df_excel = pd.read_excel('../files/example.xlsx', sheet_name=0)  # 0 means first sheet\n",
                "df_excel.head()  # display first 5 rows"
            ]
        },
        {
            "cell_type": "markdown",
            "metadata": {},
            "source": [
                "### Quick Analysis\n",
                "Once loaded, you can inspect the DataFrame:\n",
                "- `df.shape` → returns `(rows, columns)`\n",
                "- `df.columns` → list of column names\n",
                "- `df.info()` → shows column data types\n",
                "- `df.describe()` → quick stats on numeric columns"
            ]
        },
        {
            "cell_type": "code",
            "execution_count": null,
            "metadata": {},
            "outputs": [],
            "source": [
                "print(\"CSV Shape:\", df_csv.shape)\n",
                "print(\"Excel Columns:\", df_excel.columns)\n",
                "df_csv.info()\n",
                "df_excel.describe()"
            ]
        },
        {
            "cell_type": "markdown",
            "id": "957ad5a9",
            "metadata": {},
            "source": [
                "## 4. Common Transformations\n",
                "### 4.1 Selecting / Filtering\n"
            ]
        },
        {
            "cell_type": "code",
            "execution_count": null,
            "id": "e1826db0",
            "metadata": {},
            "outputs": [],
            "source": [
                "# Suppose df_csv has columns: ['ID', 'Language', 'Text']\n",
                "# We can filter rows where Language == 'en'\n",
                "df_en = df_csv[df_csv['Language'] == 'en']\n",
                "\n"
            ]
        },
        {
            "cell_type": "markdown",
            "id": "20ebe8ac",
            "metadata": {},
            "source": [
                "### 4.2 Splitting Data\n",
                "Similar idea: if you have multiple languages in a single CSV/Excel, you might **split** them into separate DataFrames or files."
            ]
        },
        {
            "cell_type": "code",
            "execution_count": null,
            "metadata": {},
            "outputs": [],
            "source": [
                "# Example: group by 'Language' and write separate CSVs\n",
                "for lang, group_df in df_csv.groupby('Language'):\n",
                "    filename = f'{lang}_strings.csv'\n",
                "    group_df.to_csv(filename, index=False, encoding='utf-8')\n",
                "    print(f\"Wrote {filename} with {len(group_df)} rows.\")"
            ]
        },
        {
            "cell_type": "markdown",
            "metadata": {},
            "source": [
                "### 4.3 String Cleanup\n",
                "Pandas allows vectorized string operations using `df['Text'].str...` (e.g. `.strip()`, `.lower()`, `.replace()`)."
            ]
        },
        {
            "cell_type": "code",
            "execution_count": null,
            "metadata": {},
            "outputs": [],
            "source": [
                "# Example: Convert all text to lowercase, strip whitespace\n",
                "df_csv['CleanText'] = df_csv['Text'].str.strip().str.lower()\n",
                "df_csv['CleanText'] = df_csv['CleanText'].str.replace('foo', 'bar', regex=True)\n",
                "df_csv.head()"
            ]
        },
        {
            "cell_type": "markdown",
            "metadata": {},
            "source": [
                "### 4.4 Merging DataFrames\n",
                "If you have multiple CSV/Excel files, you might **merge** them on common columns (like an ID)."
            ]
        },
        {
            "cell_type": "code",
            "execution_count": null,
            "metadata": {},
            "outputs": [],
            "source": [
                "# Suppose we have df1 and df2 with a common column 'ID'\n",
                "# We can do:\n",
                "df_merged = pd.merge(df_csv, df_excel, on='ID', how='left')  # left join\n",
                "df_merged.head()"
            ]
        },
        {
            "cell_type": "markdown",
            "metadata": {},
            "source": [
                "## 5. Writing CSV/Excel\n",
                "Once you have a **DataFrame** with the desired data, you can save it to CSV or Excel.\n",
                "\n",
                "### 5.1 CSV\n",
                "```python\n",
                "df_csv.to_csv('output.csv', index=False, encoding='utf-8')\n",
                "```\n",
                "\n",
                "### 5.2 Excel\n",
                "```python\n",
                "df_excel.to_excel('output.xlsx', index=False, sheet_name='Sheet1')\n",
                "```"
            ]
        },
        {
            "cell_type": "code",
            "execution_count": null,
            "metadata": {},
            "outputs": [],
            "source": [
                "# Example: let's write the merged DataFrame to an Excel file\n",
                "df_merged.to_excel('merged_output.xlsx', index=False, sheet_name='MergedData')\n",
                "print(\"Saved merged data to merged_output.xlsx\")"
            ]
        },
        {
            "cell_type": "markdown",
            "metadata": {},
            "source": [
                "## 6. Relevance to Translation/Localization\n"
            ]
        },
        {
            "cell_type": "markdown",
            "metadata": {},
            "source": [
                "## 7. Hands-On Exercises\n",
                "\n",
                "### Exercise #1: Basic CSV Manipulation\n",
                "1. Create a CSV named `strings.csv` with columns: `ID, Language, Text`.\n",
                "2. Read it into a DataFrame.\n",
                "3. Print the first 5 rows.\n",
                "4. Filter rows where `Language == 'en'`.\n",
                "5. Create a new column `CleanText` that is `.lower()` of `Text`.\n",
                "6. Save the filtered DataFrame to `en_strings.csv`.\n"
            ]
        },
        {
            "cell_type": "code",
            "execution_count": null,
            "metadata": {},
            "outputs": [],
            "source": [
                "# EXERCISE #1 (POSSIBLE SOLUTION SKELETON)\n",
                "import pandas as pd\n",
                "\n",
                "# 1) Read the CSV\n",
                "df_ex = pd.read_csv('strings.csv', encoding='utf-8')\n",
                "\n",
                "# 2) Print first 5 rows\n",
                "print(df_ex.head())\n",
                "\n",
                "# 3) Filter rows where Language == 'en'\n",
                "df_en = df_ex[df_ex['Language'] == 'en']\n",
                "print(f\"Filtered {len(df_en)} rows of English strings.\")\n",
                "\n",
                "# 4) Create new column 'CleanText' that is lowercased\n",
                "df_en['CleanText'] = df_en['Text'].str.lower()\n",
                "\n",
                "# 5) Save to 'en_strings.csv'\n",
                "df_en.to_csv('en_strings.csv', index=False, encoding='utf-8')\n",
                "print(\"Wrote en_strings.csv.\")"
            ]
        },
        {
            "cell_type": "markdown",
            "metadata": {},
            "source": [
                "### Exercise #2: Excel Merging\n",
                "1. Create an Excel file `source.xlsx` with columns: `ID, Text (English)`, etc.\n",
                "2. Create another Excel file `translations.xlsx` with columns: `ID, Text (German)`, etc.\n",
                "3. Read both into DataFrames using `pd.read_excel`.\n",
                "4. Merge them on `ID`, so you have both English and German columns.\n",
                "5. Write the merged DataFrame to `merged_strings.xlsx`.\n"
            ]
        },
        {
            "cell_type": "code",
            "execution_count": null,
            "metadata": {},
            "outputs": [],
            "source": [
                "# EXERCISE #2 (POSSIBLE SOLUTION OUTLINE)\n",
                "import pandas as pd\n",
                "\n",
                "df_source = pd.read_excel('source.xlsx', sheet_name=0)\n",
                "df_trans = pd.read_excel('translations.xlsx', sheet_name=0)\n",
                "\n",
                "df_merged_ex = pd.merge(df_source, df_trans, on='ID', how='left')\n",
                "\n",
                "df_merged_ex.to_excel('merged_strings.xlsx', index=False)\n",
                "print(\"Merged data to merged_strings.xlsx.\")"
            ]
        },
        {
            "cell_type": "markdown",
            "metadata": {},
            "source": [
                "## 8. Using AI to Generate Similar Logic\n",
                "If you’re familiar with AI tools like ChatGPT or GitHub Copilot, you can prompt them to generate Pandas code for reading/cleaning CSV or Excel. \n",
                "\n",
                "### AI Prompt (Comment)\n",
                "```\n",
                "# Generate Python code with pandas to:\n",
                "# 1. Load 'strings.csv' with columns ID, Language, Text.\n",
                "# 2. Filter rows where Language == 'fr'.\n",
                "# 3. Create a new column 'TrimmedText' that strips whitespace.\n",
                "# 4. Save the resulting DataFrame to 'fr_strings.csv'.\n",
                "```"
            ]
        },
        {
            "cell_type": "markdown",
            "metadata": {},
            "source": [
                "_Below is an example of what the AI might produce._"
            ]
        },
        {
            "cell_type": "code",
            "execution_count": null,
            "metadata": {},
            "outputs": [],
            "source": [
                "# (Example) AI-Generated Implementation\n",
                "import pandas as pd\n",
                "\n",
                "def ai_modify_csv():\n",
                "    df_ai = pd.read_csv('strings.csv', encoding='utf-8')\n",
                "    df_fr = df_ai[df_ai['Language'] == 'fr'].copy()\n",
                "    df_fr['TrimmedText'] = df_fr['Text'].str.strip()\n",
                "    df_fr.to_csv('fr_strings.csv', index=False, encoding='utf-8')\n",
                "    print(\"AI-based CSV modification complete! Check 'fr_strings.csv'.\")\n",
                "\n",
                "ai_modify_csv()"
            ]
        },
        {
            "cell_type": "markdown",
            "metadata": {},
            "source": [
                "## 9. Advanced Handling & Tips\n",
                "- **Large files**: For CSVs with millions of rows, consider reading in chunks (`pd.read_csv(..., chunksize=100000)`).\n",
                "- **Formatting Excel**: You can style Excel files using `openpyxl` or `xlsxwriter`, though it’s more advanced.\n",
                "- **Date/Time** columns: Pandas can parse them automatically if you pass `parse_dates=[...]`.\n",
                "- **Validation**: If you need to ensure columns exist or check data types, you can write custom checks or use [pandera](https://github.com/pandera-dev/pandera)."
            ]
        },
        {
            "cell_type": "markdown",
            "metadata": {},
            "source": [
                "## 10. Summary & Next Steps\n",
                "You now have:\n",
                "1. A **basic understanding** of reading/writing CSV and Excel with Pandas.\n",
                "2. **Hands-on** experience splitting, merging, filtering, and cleaning data.\n",
                "3. Ideas on how AI can auto-generate Pandas code once you know the fundamentals.\n",
                "\n",
                "**Next**:\n",
                "- Explore **Pandas GroupBy**, pivot tables, and more advanced transformations.\n",
                "- Integrate these scripts in your **translation pipeline** to handle large CSV/Excel files of strings.\n",
                "- Learn about **database connections** (e.g., SQL) if your data is stored elsewhere.\n",
                "\n",
                "Happy CSV/Excel Handling!"
            ]
        }
    ],
    "metadata": {
        "kernelspec": {
            "display_name": ".conda",
            "language": "python",
            "name": "python3"
        },
        "language_info": {
            "codemirror_mode": {
                "name": "ipython",
                "version": 3
            },
            "file_extension": ".py",
            "mimetype": "text/x-python",
            "name": "python",
            "nbconvert_exporter": "python",
            "pygments_lexer": "ipython3",
            "version": "3.11.11"
        }
    },
    "nbformat": 4,
    "nbformat_minor": 5
}
