{
 "cells": [
  {
   "cell_type": "markdown",
   "id": "0fcffb7e",
   "metadata": {},
   "source": [
    "# Python File Handling & Text Manipulation\n",
    "\n",
    "Welcome to the **best beginner-friendly** tutorial on **File Handling & Text Manipulation** in Python, with a sprinkle of **AI** at the end. \n",
    "In this notebook, we'll cover:\n",
    "\n",
    "1. **Basic File I/O Modes**: `r`, `w`, `a`, etc.\n",
    "2. **Reading**, **Writing**, and **Appending** text.\n",
    "3. **Reading lines** vs. reading the entire file.\n",
    "4. **Text Manipulation** techniques: split, strip, search, replace, and simple regex usage.\n",
    "5. **Exercises** to reinforce learning.\n",
    "6. A final section on how to **use AI** to implement similar code.\n",
    "\n",
    "Let's get started!"
   ]
  },
  {
   "cell_type": "markdown",
   "id": "01bd7887",
   "metadata": {},
   "source": [
    "## 1. Python File Modes Overview\n",
    "\n",
    "When you open a file with Python's built-in `open()` function, you specify a **mode**:\n",
    "\n",
    "- **`r`** (read): Opens a file for reading. If the file does not exist, an error is raised.\n",
    "- **`w`** (write): Opens a file for writing. **Overwrites** the file if it exists, or **creates** a new one if it doesn't.\n",
    "- **`a`** (append): Opens a file in **append** mode. All written data is appended to the end of the file.\n",
    "- **`x`** (exclusive creation): Creates a file but **fails** if it already exists.\n",
    "- **`r+`** (read/write): Opens a file for both reading and writing.\n",
    "- **`w+`** (write/read): Like `w` but also allows reading. Overwrites if file exists.\n",
    "- **`a+`** (append/read): Like `a` but also allows reading from the file."
   ]
  },
  {
   "cell_type": "markdown",
   "id": "f591a2de",
   "metadata": {},
   "source": [
    "## 2. Basic Reading & Writing Functions\n",
    "Below are simple helper functions that read, write, and append text in **UTF-8**. \n",
    "\n",
    "1. **read_utf8_file**: returns the entire file content as a **single string**.\n",
    "2. **write_utf8_file**: **overwrites** a file with new content.\n",
    "3. **append_utf8_file**: **appends** content to the end of a file (creating it if it doesn’t exist).\n",
    "4. **read_lines_utf8_file**: returns a list of lines instead of one big string.\n"
   ]
  },
  {
   "cell_type": "code",
   "execution_count": null,
   "id": "e37f8069",
   "metadata": {},
   "outputs": [],
   "source": [
    "def read_utf8_file(file_path):\n",
    "    \"\"\"\n",
    "    Reads a file as UTF-8-encoded text, returning its content as a string.\n",
    "    \"\"\"\n",
    "    file = open(file_path, 'r', encoding='utf-8')\n",
    "    data = file.read()\n",
    "    file.close()\n",
    "    return data\n",
    "\n",
    "def write_utf8_file(file_path, content):\n",
    "    \"\"\"\n",
    "    Writes a string to a file in UTF-8 encoding.\n",
    "    Overwrites if the file already exists.\n",
    "    \"\"\"\n",
    "    file = open(file_path, 'w', encoding='utf-8')\n",
    "    file.write(content)\n",
    "    file.close()\n",
    "\n",
    "def append_utf8_file(file_path, content):\n",
    "    \"\"\"\n",
    "    Appends a string to a file in UTF-8 encoding.\n",
    "    Creates the file if it does not exist.\n",
    "    \"\"\"\n",
    "    file = open(file_path, 'a', encoding='utf-8')\n",
    "    file.write(content)\n",
    "    file.close()\n",
    "\n",
    "def read_lines_utf8_file(file_path):\n",
    "    \"\"\"\n",
    "    Reads a file as UTF-8-encoded text, returning its content as a list of lines.\n",
    "    \"\"\"\n",
    "    file = open(file_path, 'r', encoding='utf-8')\n",
    "    lines = file.readlines()\n",
    "    file.close()\n",
    "    return lines\n",
    "\n",
    "# Let's create a simple text file for demonstration.\n",
    "write_utf8_file(\"demo.txt\", \"Hello World!\\nThis is a demo file.\\nLine 3.\")\n",
    "print(\"demo.txt created with sample content.\")"
   ]
  },
  {
   "cell_type": "markdown",
   "id": "9b4e75d4",
   "metadata": {},
   "source": [
    "## 3. Demonstrating Different Modes\n",
    "### 3.1 Reading (`r`)\n",
    "If the file exists, reading is straightforward:\n"
   ]
  },
  {
   "cell_type": "code",
   "execution_count": null,
   "id": "886af803",
   "metadata": {},
   "outputs": [],
   "source": [
    "# Let's read our demo.txt\n",
    "content = read_utf8_file(\"demo.txt\")\n",
    "print(\"CONTENT OF demo.txt:\\n\", content)"
   ]
  },
  {
   "cell_type": "markdown",
   "id": "debd9537",
   "metadata": {},
   "source": [
    "### 3.2 Writing (`w`)\n",
    "Opening a file in **write** mode overwrites it if it exists, or **creates** it if not."
   ]
  },
  {
   "cell_type": "code",
   "execution_count": null,
   "id": "77b254b1",
   "metadata": {},
   "outputs": [],
   "source": [
    "# Overwrite the content of 'demo.txt'\n",
    "write_utf8_file(\"demo.txt\", \"New content here.\\nOverwritten!\")\n",
    "\n",
    "# Let's read again to confirm\n",
    "new_content = read_utf8_file(\"demo.txt\")\n",
    "print(\"After overwriting, demo.txt contains:\\n\", new_content)"
   ]
  },
  {
   "cell_type": "markdown",
   "id": "76dfb20f",
   "metadata": {},
   "source": [
    "### 3.3 Appending (`a`)\n",
    "Appending will place new text at the **end** of the file, creating it if it doesn’t exist."
   ]
  },
  {
   "cell_type": "code",
   "execution_count": null,
   "id": "9be4e257",
   "metadata": {},
   "outputs": [],
   "source": [
    "# Append a new line\n",
    "append_utf8_file(\"demo.txt\", \"\\nAppending a new line!\")\n",
    "\n",
    "# Confirm the appended content\n",
    "appended_content = read_utf8_file(\"demo.txt\")\n",
    "print(\"After appending, demo.txt contains:\\n\", appended_content)"
   ]
  },
  {
   "cell_type": "markdown",
   "id": "9f60edb7",
   "metadata": {},
   "source": [
    "### 3.4 Reading lines (`readlines()`)\n",
    "Sometimes, you need to process a file **line by line**."
   ]
  },
  {
   "cell_type": "code",
   "execution_count": null,
   "id": "fc1bea35",
   "metadata": {},
   "outputs": [],
   "source": [
    "# Let's show how read_lines_utf8_file works\n",
    "lines = read_lines_utf8_file(\"demo.txt\")\n",
    "print(\"Type of 'lines':\", type(lines))\n",
    "print(\"Number of lines:\", len(lines))\n",
    "print(\"Lines:\", lines)"
   ]
  },
  {
   "cell_type": "markdown",
   "id": "3c3bb3d2",
   "metadata": {},
   "source": [
    "## 4. Text Manipulation in Files\n",
    "\n",
    "Often, you’ll **read** text from a file, **manipulate** it, and then **write** or **append** it. Below are some common operations:\n",
    "\n",
    "1. **Splitting** lines or paragraphs.\n",
    "2. **Stripping** whitespace.\n",
    "3. **Replacing** substrings.\n",
    "4. **Searching** for patterns, sometimes using **regex**.\n",
    "\n",
    "### 4.1 Splitting\n",
    "- `str.split()` without arguments splits on **any whitespace**.\n",
    "- `str.split('\\n')` splits explicitly on newlines.\n",
    "- `str.split('\\n\\n')` might help isolate paragraphs if they're separated by **blank lines**."
   ]
  },
  {
   "cell_type": "code",
   "execution_count": null,
   "id": "86db1297",
   "metadata": {},
   "outputs": [],
   "source": [
    "# Example of splitting on newlines\n",
    "demo_text = read_utf8_file(\"demo.txt\")\n",
    "split_lines = demo_text.split(\"\\n\")\n",
    "print(\"Split by newlines:\", split_lines)"
   ]
  },
  {
   "cell_type": "markdown",
   "id": "70814f27",
   "metadata": {},
   "source": [
    "### 4.2 Strip, Replace\n",
    "- **strip()** removes leading and trailing whitespace.\n",
    "- **replace(old, new)** replaces occurrences of one substring with another."
   ]
  },
  {
   "cell_type": "code",
   "execution_count": null,
   "id": "4935caa0",
   "metadata": {},
   "outputs": [],
   "source": [
    "line_example = \"   Hello, world!   \"\n",
    "stripped_line = line_example.strip()\n",
    "print(\"Original:\", repr(line_example))\n",
    "print(\"Stripped:\", repr(stripped_line))\n",
    "\n",
    "replaced_line = stripped_line.replace(\"world\", \"Python\")\n",
    "print(\"Replaced:\", replaced_line)"
   ]
  },
  {
   "cell_type": "markdown",
   "id": "4d4c2228",
   "metadata": {},
   "source": [
    "### 4.3 Searching & Regex\n",
    "For more complex searches (like patterns), Python’s built-in **`re`** module helps. Example usage:\n",
    "```python\n",
    "import re\n",
    "result = re.findall(r\"\\b\\w+\\b\", \"Hello, world!\")  # find all words\n",
    "```\n",
    "\n",
    "We'll show a brief example below."
   ]
  },
  {
   "cell_type": "code",
   "execution_count": null,
   "id": "e894135a",
   "metadata": {},
   "outputs": [],
   "source": [
    "import re\n",
    "\n",
    "sample_text = \"Email me at test@example.com or admin@example.org.\"  \n",
    "# Let's find all email addresses\n",
    "emails = re.findall(r\"[\\w.-]+@[\\w.-]+\\.[\\w.-]+\", sample_text)\n",
    "print(\"Found emails:\", emails)"
   ]
  },
  {
   "cell_type": "markdown",
   "id": "07a985fd",
   "metadata": {},
   "source": [
    "## 5. Exercises\n",
    "\n",
    "### Exercise 5.1: Reading & Transforming Lines\n",
    "1. **Write** a file called `exercise_input.txt` with at least 3 lines of text.\n",
    "2. **Read** the file line by line.\n",
    "3. For each line:\n",
    "   - **strip** whitespace,\n",
    "   - convert to **lowercase**,\n",
    "   - **replace** any occurrence of the word \"python\" with \"snake\" (just for fun).\n",
    "4. **Print** each transformed line.\n",
    "\n",
    "### Exercise 5.2: Splitting Paragraphs\n",
    "1. Create or modify `exercise_input.txt` so it has **two paragraphs** separated by a blank line.\n",
    "2. **Read** the file in one go.\n",
    "3. Split on double-newlines (`\"\\n\\n\"`).\n",
    "4. Print each paragraph on a separate line.\n",
    "\n",
    "### Exercise 5.3: Simple Regex Search\n",
    "1. Use the `re` module to **find** all words that begin with a capital letter.\n",
    "2. Print them out.\n",
    "\n",
    "Below is some partial code for **Exercise 5.1**. Fill in the placeholders `\"...\"`."
   ]
  },
  {
   "cell_type": "code",
   "execution_count": null,
   "id": "b9c98028",
   "metadata": {},
   "outputs": [],
   "source": [
    "# EXERCISE 5.1 SKELETON\n",
    "def exercise_read_and_transform(file_path):\n",
    "    \"\"\"\n",
    "    1. Read the file line by line.\n",
    "    2. For each line: strip whitespace, lower, replace 'python' -> 'snake'.\n",
    "    3. Print the transformed line.\n",
    "    \"\"\"\n",
    "    lines = read_lines_utf8_file(file_path)\n",
    "\n",
    "    for line in lines:\n",
    "        # your code here\n",
    "\n",
    "# Try calling exercise_read_and_transform(\"exercise_input.txt\") after you create the file!\n",
    "# exercise_read_and_transform(\"exercise_input.txt\")"
   ]
  },
  {
   "cell_type": "markdown",
   "id": "acd0ee50",
   "metadata": {},
   "source": [
    "## 6. Using AI to Implement Similar Code\n",
    "\n",
    "Now that you understand the fundamentals of file handling and text manipulation, you can leverage **AI** to generate or refactor your code. Below is an example **prompt** you could provide to an AI tool (like ChatGPT, GitHub Copilot, etc.) to create a function that does the reading, line-by-line transformation, and printing.\n",
    "\n",
    "### AI Prompt (Comment)\n",
    "```\n",
    "# Please generate a Python function named 'process_file' that:\n",
    "# 1. Reads 'exercise_input.txt' in UTF-8.\n",
    "# 2. Splits the file by lines.\n",
    "# 3. For each line, strips whitespace, converts to lowercase, and replaces 'python' with 'snake'.\n",
    "# 4. Prints the transformed lines.\n",
    "# 5. Uses 'open()' with 'r' mode.\n",
    "```"
   ]
  },
  {
   "cell_type": "markdown",
   "id": "47aba516",
   "metadata": {},
   "source": [
    "_Below is an example of what the AI might produce._"
   ]
  },
  {
   "cell_type": "code",
   "execution_count": 15,
   "id": "fa810416",
   "metadata": {},
   "outputs": [],
   "source": [
    "# (Example) AI-Generated Implementation\n",
    "def process_file():"
   ]
  }
 ],
 "metadata": {
  "kernelspec": {
   "display_name": ".conda",
   "language": "python",
   "name": "python3"
  },
  "language_info": {
   "name": "python",
   "version": "3.11.11"
  }
 },
 "nbformat": 4,
 "nbformat_minor": 5
}
