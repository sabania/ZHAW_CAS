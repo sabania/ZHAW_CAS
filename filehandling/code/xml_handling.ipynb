{
 "cells": [
  {
   "cell_type": "markdown",
   "metadata": {},
   "source": [
    "# XML Handling in Python for Translation & Localization\n",
    "\n",
    "Welcome to this **beginner-friendly** notebook on **XML** handling in Python! We’ll cover:\n",
    "1. Basic concepts of XML.\n",
    "2. Reading & parsing XML using **`xml.etree.ElementTree`**.\n",
    "3. Common operations: accessing **tags**, **attributes**, **text**.\n",
    "4. **Modifying** XML elements, attributes, text.\n",
    "5. **Splitting** or restructuring XML for translation.\n",
    "6. **Copying / Moving** content between tags.\n",
    "7. **Hands-on exercises** with placeholders.\n",
    "8. An **AI prompt** example to generate code automatically.\n",
    "9. **Advanced Handling** with **XPath** (using `lxml`)—some cool stuff!\n",
    "\n",
    "XML is often used in translation/localization workflows (e.g., help files, multi-language text segments). Let's dive in!"
   ]
  },
  {
   "cell_type": "markdown",
   "metadata": {},
   "source": [
    "## 1. Introduction to XML\n",
    "\n",
    "- **XML (Extensible Markup Language)** is a format for storing and transporting structured data.\n",
    "- It consists of **tags** (like `<tag>`), **attributes** (like `lang=\"en\"`), and **text** content.\n",
    "- Example:\n",
    "```xml\n",
    "<root>\n",
    "  <segment lang=\"en\">Hello</segment>\n",
    "  <segment lang=\"de\">Hallo</segment>\n",
    "</root>\n",
    "```\n",
    "Here, `segment` is a tag, `lang` is an attribute, and the text within each segment is the actual text content (`Hello` / `Hallo`).\n",
    "\n",
    "We often manipulate XML to **extract text** for translation, **update attributes**, or **restructure** the document."
   ]
  },
  {
   "cell_type": "markdown",
   "metadata": {},
   "source": [
    "## 2. Parsing XML with `xml.etree.ElementTree`\n",
    "\n",
    "Python’s **standard library** has `xml.etree.ElementTree` for basic XML tasks. If you want advanced features (like better XPath support), you can use **`lxml`**. But for now, let’s stick to the built-in approach to learn the fundamentals."
   ]
  },
  {
   "cell_type": "code",
   "execution_count": null,
   "metadata": {},
   "outputs": [],
   "source": [
    "# Basic example of reading and iterating over XML\n",
    "import xml.etree.ElementTree as ET\n",
    "\n",
    "# Let's imagine we have an XML file named 'example.xml'.\n",
    "# We'll parse it, get the root, and iterate through child elements.\n",
    "\n",
    "tree = ET.parse('example.xml')  # parse the XML file\n",
    "root = tree.getroot()          # get the root element\n",
    "\n",
    "for child in root:\n",
    "    print(child.tag, child.attrib, child.text)"
   ]
  },
  {
   "cell_type": "markdown",
   "metadata": {},
   "source": [
    "### Anatomy of the Code\n",
    "- `ET.parse('example.xml')`: Reads and parses the file into a tree structure.\n",
    "- `tree.getroot()`: Retrieves the **root** element of the document.\n",
    "- Looping over `root`: Each `child` is an element (`<segment>`, `<title>`, etc.).\n",
    "- `child.tag`: Name of the tag.\n",
    "- `child.attrib`: A dictionary of attributes (e.g., `{\"lang\": \"en\"}`).\n",
    "- `child.text`: The **text** contained within the tag."
   ]
  },
  {
   "cell_type": "markdown",
   "metadata": {},
   "source": [
    "## 3. Accessing & Modifying XML Elements\n",
    "### 3.1 Finding Elements by Tag\n",
    "If you have a `<segment>` tag, you can use `root.findall('segment')` to get a list of them."
   ]
  },
  {
   "cell_type": "code",
   "execution_count": null,
   "metadata": {},
   "outputs": [],
   "source": [
    "segments = root.findall('segment')\n",
    "print(\"Found\", len(segments), \"<segment> elements.\")\n",
    "for seg in segments:\n",
    "    lang = seg.get('lang', 'unknown')  # get 'lang' attribute, default to 'unknown'\n",
    "    text_content = seg.text\n",
    "    print(f\"Segment lang={lang}, text='{text_content}'\")"
   ]
  },
  {
   "cell_type": "markdown",
   "metadata": {},
   "source": [
    "### 3.2 Modifying Attributes\n",
    "You can set or modify attributes on an element with `.set(attr_name, value)`."
   ]
  },
  {
   "cell_type": "code",
   "execution_count": null,
   "metadata": {},
   "outputs": [],
   "source": [
    "# Example: We'll add or update an attribute 'status' to 'needs-translation'\n",
    "for seg in segments:\n",
    "    seg.set('status', 'needs-translation')\n",
    "\n",
    "# After modifying, we can save the XML back\n",
    "tree.write('modified_example.xml', encoding='utf-8', xml_declaration=True)\n",
    "print(\"XML saved with updated attributes.\")"
   ]
  },
  {
   "cell_type": "markdown",
   "metadata": {},
   "source": [
    "### 3.3 Modifying Text\n",
    "Likewise, you can change the **text** of an element by assigning to `seg.text`."
   ]
  },
  {
   "cell_type": "code",
   "execution_count": null,
   "metadata": {},
   "outputs": [],
   "source": [
    "# Let's say we want to append something to each segment's text.\n",
    "for seg in segments:\n",
    "    if seg.text:\n",
    "        seg.text = seg.text + \" (Review)\"\n",
    "\n",
    "# Then save again\n",
    "tree.write('modified_example.xml', encoding='utf-8', xml_declaration=True)\n",
    "print(\"XML saved with appended text.\")"
   ]
  },
  {
   "cell_type": "markdown",
   "metadata": {},
   "source": [
    "## 4. Splitting & Restructuring XML Content\n",
    "A common localization task is to **extract** text for translation from different languages. For instance, if each `<segment>` has a `lang` attribute (like `en`, `de`, `fr`), we might want to separate them."
   ]
  },
  {
   "cell_type": "code",
   "execution_count": null,
   "id": "3ce7a72e",
   "metadata": {},
   "outputs": [],
   "source": [
    "# A dictionary in Python is a collection of key-value pairs.\n",
    "# Each key is unique and is used to access the corresponding value.\n",
    "\n",
    "# Example of a dictionary\n",
    "student_grades = {\n",
    "    'Alice': 85,\n",
    "    'Bob': 92,\n",
    "    'Charlie': 78\n",
    "}\n",
    "\n",
    "# Accessing values using keys\n",
    "print(\"Alice's grade:\", student_grades['Alice'])  # Output: 85\n",
    "print(\"Bob's grade:\", student_grades['Bob'])      # Output: 92\n",
    "\n",
    "# Adding a new key-value pair\n",
    "student_grades['David'] = 88\n",
    "print(\"David's grade:\", student_grades['David'])  # Output: 88\n",
    "\n",
    "# Updating an existing value\n",
    "student_grades['Alice'] = 90\n",
    "print(\"Alice's updated grade:\", student_grades['Alice'])  # Output: 90\n",
    "\n",
    "# Removing a key-value pair\n",
    "del student_grades['Charlie']\n",
    "print(\"Student grades after removing Charlie:\", student_grades)\n",
    "\n",
    "# Iterating over keys and values\n",
    "for student, grade in student_grades.items():\n",
    "    print(f\"{student}: {grade}\")\n",
    "\n",
    "# Checking if a key exists in the dictionary\n",
    "if 'Bob' in student_grades:\n",
    "    print(\"Bob's grade is in the dictionary\")\n",
    "\n",
    "# Getting the value for a key with a default if the key is not found\n",
    "eve_grade = student_grades.get('Eve', 'No grade found')\n",
    "print(\"Eve's grade:\", eve_grade)"
   ]
  },
  {
   "cell_type": "code",
   "execution_count": null,
   "metadata": {},
   "outputs": [],
   "source": [
    "from collections import defaultdict\n",
    "\n",
    "# Create a defaultdict to store segments by language\n",
    "lang_dict = defaultdict(list)\n",
    "\n",
    "# Path to the multi-lingual XML file\n",
    "multi_lingual_xml_path = '../files/multi_lingual_xml.xml'\n",
    "\n",
    "# Parse the XML file and get the root element\n",
    "tree = ET.parse(multi_lingual_xml_path)\n",
    "root = tree.getroot()\n",
    "\n",
    "# Iterate over all 'segment' elements in the XML\n",
    "for seg in root.findall('segment'):\n",
    "    # Get the 'lang' attribute, default to 'unknown' if not present\n",
    "    lang = seg.get('lang', 'unknown')\n",
    "    # Get the text content of the segment, default to empty string if None\n",
    "    content = seg.text if seg.text else ''\n",
    "    # Get the whole text content including sub-elements\n",
    "    content = ''.join(seg.itertext())\n",
    "    # Append the content to the list corresponding to the language\n",
    "    lang_dict[lang].append(content)\n",
    "\n",
    "# Now write each language's segments to a separate file\n",
    "for lang, texts in lang_dict.items():\n",
    "    # Create a filename based on the language\n",
    "    filename = f'{lang}_segments.txt'\n",
    "    # Open the file for writing with UTF-8 encoding\n",
    "    with open(filename, 'w', encoding='utf-8') as f:\n",
    "        # Write each segment's text to the file, each on a new line\n",
    "        for t in texts:\n",
    "            f.write(t + \"\\n\")\n",
    "    # Print a message indicating how many segments were written to the file\n",
    "    print(f\"Wrote {len(texts)} segments to {filename}.\")"
   ]
  },
  {
   "cell_type": "code",
   "execution_count": null,
   "id": "07bde108",
   "metadata": {},
   "outputs": [],
   "source": [
    "# Path to the multi-lingual XML file\n",
    "multi_lingual_xml_path = '../files/multi_lingual_xml.xml'\n",
    "\n",
    "# Parse the XML file and get the root element\n",
    "tree = ET.parse(multi_lingual_xml_path)\n",
    "root = tree.getroot()\n",
    "\n",
    "# Find all 'segment' elements in the XML\n",
    "segments = root.findall('segment')\n",
    "\n",
    "# Get a set of all unique languages in the 'segment' elements\n",
    "langs = set([seg.get('lang', 'unknown') for seg in segments])\n",
    "\n",
    "# Loop through each language\n",
    "for lang in langs:\n",
    "    # Create a new root element for the new XML\n",
    "    new_root = ET.Element('root')\n",
    "    \n",
    "    # Add segments with the current language to the new root\n",
    "    new_root.extend([seg for seg in segments if seg.get('lang', 'unknown') == lang])\n",
    "    \n",
    "    # Create a new tree with the new root\n",
    "    new_tree = ET.ElementTree(new_root)\n",
    "    \n",
    "    # Write the new tree to a file named after the language\n",
    "    new_tree.write(f'../files/{lang}_example.xml', encoding='utf-8', xml_declaration=True)\n",
    "    \n",
    "    # Print a message indicating the file has been created\n",
    "    print(f\"Created {lang}_example.xml with {len(new_root)} segments.\")\n"
   ]
  },
  {
   "cell_type": "markdown",
   "metadata": {},
   "source": [
    "## 5. Copying / Moving Content Between Tags\n",
    "Sometimes you want to **copy** one tag’s text into another, or **duplicate** tags for a new language."
   ]
  },
  {
   "cell_type": "code",
   "execution_count": 10,
   "id": "1631a3a0",
   "metadata": {},
   "outputs": [],
   "source": [
    "# Path to the multi-lingual XML file\n",
    "multi_lingual_xml_path = '../files/multi_lingual_xml.xml'\n",
    "tree = ET.parse(multi_lingual_xml_path)\n",
    "root = tree.getroot()\n",
    "segments = root.findall('segment')"
   ]
  },
  {
   "cell_type": "code",
   "execution_count": null,
   "id": "1e9c2c0e",
   "metadata": {},
   "outputs": [],
   "source": [
    "# Iterate through segments and copy content from 'en' segments to 'de' segments\n",
    "for seg in segments:\n",
    "    if seg.get('lang') == 'en':\n",
    "        en_segment = seg\n",
    "        for de_segment in segments:\n",
    "            if de_segment.get('lang') == 'de':\n",
    "                de_segment.clear()  # Clear existing content in de_segment\n",
    "                for sub_element in en_segment:\n",
    "                    de_segment.append(sub_element)\n",
    "                de_segment.text = en_segment.text  # Copy text content\n",
    "\n",
    "# Save the modified XML to a new file\n",
    "tree.write('modified_example.xml', encoding='utf-8', xml_declaration=True)\n",
    "print(\"Content copied from 'en' segments to 'de' segments and saved to 'modified_example.xml'.\")\n"
   ]
  },
  {
   "cell_type": "markdown",
   "metadata": {},
   "source": [
    "## 6. Hands-On Exercises\n",
    "\n",
    "**Goal**: Practice reading an XML, extracting info, and modifying it.\n",
    "\n",
    "### Exercise #1: Inspect & Modify\n",
    "1. Create a file named `my_example.xml` with content like:\n",
    "```xml\n",
    "<root>\n",
    "  <segment lang=\"en\">Hello</segment>\n",
    "  <segment lang=\"de\">Hallo</segment>\n",
    "  <segment lang=\"fr\">Bonjour</segment>\n",
    "</root>\n",
    "```\n",
    "2. **Parse** the file with `xml.etree.ElementTree`.\n",
    "3. Print out each `<segment>` tag’s `lang` attribute and text.\n",
    "4. Set an attribute `status=\"review\"` on each `<segment>`.\n",
    "5. Change the text of the `<segment lang=\"en\">` to `\"Hi there\"`.\n",
    "6. **Save** to a new file `my_example_modified.xml`.\n"
   ]
  },
  {
   "cell_type": "code",
   "execution_count": null,
   "metadata": {},
   "outputs": [],
   "source": [
    "# EXERCISE #1 (POSSIBLE SOLUTION SKELETON)\n",
    "import xml.etree.ElementTree as ET\n",
    "\n",
    "# 1) Parse\n",
    "tree = ET.parse('my_example.xml')\n",
    "root = tree.getroot()\n",
    "\n",
    "# 2) Print out segment info\n",
    "segments = root.findall('segment')\n",
    "for seg in segments:\n",
    "    lang = seg.get('lang', '??')\n",
    "    txt = seg.text or ''\n",
    "    print(f\"Segment lang={lang}, text='{txt}'\")\n",
    "\n",
    "# 3) Set attribute 'status' = 'review'\n",
    "for seg in segments:\n",
    "    seg.set('status', 'review')\n",
    "\n",
    "# 4) Change <segment lang='en'> to \"Hi there\"\n",
    "for seg in segments:\n",
    "    if seg.get('lang') == 'en':\n",
    "        seg.text = \"Hi there\"\n",
    "\n",
    "# 5) Save\n",
    "tree.write('my_example_modified.xml', encoding='utf-8', xml_declaration=True)\n",
    "print(\"Exercise #1 done! Check 'my_example_modified.xml'.\")"
   ]
  },
  {
   "cell_type": "markdown",
   "metadata": {},
   "source": [
    "### Exercise #2: Splitting by Language\n",
    "1. Create `my_multilang.xml` with multiple `<segment lang=\"en\">`, `<segment lang=\"de\">`, `<segment lang=\"fr\">`, etc.\n",
    "2. Parse it.\n",
    "3. For each `<segment>`, group text by `lang`.\n",
    "4. Write each language group to a separate file: `en_segments.txt`, `de_segments.txt`, etc.\n",
    "5. **Hint**: Use a dictionary or `defaultdict(list)` to collect texts.\n"
   ]
  },
  {
   "cell_type": "code",
   "execution_count": null,
   "metadata": {},
   "outputs": [],
   "source": [
    "# EXERCISE #2 (POSSIBLE SOLUTION OUTLINE)\n",
    "import xml.etree.ElementTree as ET\n",
    "from collections import defaultdict\n",
    "\n",
    "tree = ET.parse('my_multilang.xml')\n",
    "root = tree.getroot()\n",
    "\n",
    "lang_dict = defaultdict(list)\n",
    "\n",
    "for seg in root.findall('segment'):\n",
    "    lang = seg.get('lang', 'unknown')\n",
    "    text_value = seg.text if seg.text else ''\n",
    "    lang_dict[lang].append(text_value)\n",
    "\n",
    "for lang, texts in lang_dict.items():\n",
    "    filename = f'{lang}_segments.txt'\n",
    "    with open(filename, 'w', encoding='utf-8') as f:\n",
    "        for t in texts:\n",
    "            f.write(t + \"\\n\")\n",
    "    print(f\"Wrote {len(texts)} entries to {filename}\")"
   ]
  },
  {
   "cell_type": "markdown",
   "metadata": {},
   "source": [
    "## 7. Using AI to Generate Similar Logic\n",
    "Now that you’ve learned how to manually parse and modify XML, let’s see how an **AI** tool might help. Below is a **prompt** you could paste into ChatGPT or GitHub Copilot, followed by a possible AI-generated code snippet.\n",
    "\n",
    "### AI Prompt (Comment)\n",
    "```\n",
    "# Generate Python code using xml.etree.ElementTree to:\n",
    "# 1. Parse 'my_multilang.xml'.\n",
    "# 2. Print each <segment>'s lang attribute and text.\n",
    "# 3. Add an attribute status='pending' for segments with lang='en'.\n",
    "# 4. Save the modified XML to 'ai_modified.xml'.\n",
    "```"
   ]
  },
  {
   "cell_type": "markdown",
   "metadata": {},
   "source": [
    "_Below is an example of what the AI might produce._"
   ]
  },
  {
   "cell_type": "code",
   "execution_count": null,
   "metadata": {},
   "outputs": [],
   "source": [
    "# (Example) AI-Generated Implementation\n",
    "import xml.etree.ElementTree as ET\n",
    "\n",
    "def ai_modify_xml():\n",
    "    tree = ET.parse('my_multilang.xml')\n",
    "    root = tree.getroot()\n",
    "    \n",
    "    for seg in root.findall('segment'):\n",
    "        lang = seg.get('lang', 'unknown')\n",
    "        text_content = seg.text if seg.text else ''\n",
    "        print(f\"Segment lang={lang}, text='{text_content}'\")\n",
    "        if lang == 'en':\n",
    "            seg.set('status', 'pending')\n",
    "    \n",
    "    tree.write('ai_modified.xml', encoding='utf-8', xml_declaration=True)\n",
    "    print(\"AI-based modification complete! Check 'ai_modified.xml'.\")\n",
    "\n",
    "# Let's just call the function for demonstration\n",
    "ai_modify_xml()"
   ]
  },
  {
   "cell_type": "markdown",
   "metadata": {},
   "source": [
    "## 8. Advanced Handling with XPath (using `lxml`)\n",
    "\n",
    "While `xml.etree.ElementTree` provides basic functionality, **XPath** can make queries more powerful and concise. For advanced XML tasks, many developers prefer **`lxml`**.\n",
    "\n",
    "### 8.1 Installing `lxml`\n",
    "```bash\n",
    "pip install lxml\n",
    "```\n",
    "\n",
    "### 8.2 Example with XPath\n",
    "```python\n",
    "from lxml import etree\n",
    "\n",
    "# Parse XML using lxml\n",
    "tree = etree.parse('example.xml')\n",
    "\n",
    "# Find all 'segment' elements with a specific attribute using XPath\n",
    "segments_en = tree.xpath(\"//segment[@lang='en']\")\n",
    "for seg in segments_en:\n",
    "    print(\"EN Segment:\", seg.text)\n",
    "\n",
    "# You can also remove, rename, or restructure nodes easily\n",
    "for seg in segments_en:\n",
    "    seg.text = seg.text.upper()  # for example, uppercase all EN text\n",
    "\n",
    "# Save changes\n",
    "tree.write('example_lxml_modified.xml', encoding='utf-8', xml_declaration=True)\n",
    "```\n",
    "\n",
    "**Why XPath?** You can do queries like:\n",
    "- `//segment`: find **all** `<segment>` elements in the document.\n",
    "- `//segment[@lang='en']`: find all `<segment>` elements where `lang='en'`.\n",
    "- `//segment[contains(text(),'Hello')]`: find `<segment>` elements whose text contains `\"Hello\"`.\n",
    "\n",
    "And many more powerful patterns!"
   ]
  },
  {
   "cell_type": "markdown",
   "metadata": {},
   "source": [
    "### 8.3 More Cool Stuff: Removing or Replacing Nodes\n",
    "```python\n",
    "# For advanced node operations, lxml lets you do:\n",
    "for node in tree.xpath(\"//segment[@lang='de']\"):\n",
    "    parent = node.getparent()\n",
    "    if parent is not None:\n",
    "        parent.remove(node)  # remove all German segments, for instance.\n",
    "\n",
    "# Or rename a tag:\n",
    "node.tag = 'translation'\n",
    "\n",
    "# Then write out\n",
    "tree.write('example_modified.xml', encoding='utf-8', xml_declaration=True)\n",
    "```\n",
    "\n",
    "The **flexibility** of `lxml` + XPath can be extremely helpful for advanced translation/localization workflows (e.g., cleaning up large XML docs, merging multiple sources, etc.)."
   ]
  },
  {
   "cell_type": "markdown",
   "metadata": {},
   "source": [
    "## 9. Summary & Next Steps\n",
    "You now have:\n",
    "1. A **basic understanding** of XML structure and `xml.etree.ElementTree`.\n",
    "2. **Hands-on** experience parsing, modifying, splitting, and copying XML segments.\n",
    "3. An introduction to how **AI** can auto-generate similar code.\n",
    "4. A glimpse of **advanced XPath** usage with `lxml` (which can be extremely powerful).\n",
    "\n",
    "**Next**:\n",
    "- Dive deeper into **XPath** and `lxml` if your projects require complex queries or transformations.\n",
    "- Integrate these scripts with your **translation pipeline** to handle real-world, large-scale XML documents.\n",
    "- Learn about **namespaces**, **XInclude**, and more advanced XML standards if your documents are more complex.\n",
    "\n",
    "Happy XML Handling!"
   ]
  }
 ],
 "metadata": {
  "kernelspec": {
   "display_name": ".conda",
   "language": "python",
   "name": "python3"
  },
  "language_info": {
   "codemirror_mode": {
    "name": "ipython",
    "version": 3
   },
   "file_extension": ".py",
   "mimetype": "text/x-python",
   "name": "python",
   "nbconvert_exporter": "python",
   "pygments_lexer": "ipython3",
   "version": "3.11.11"
  }
 },
 "nbformat": 4,
 "nbformat_minor": 5
}
