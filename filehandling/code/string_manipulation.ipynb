{
 "cells": [
  {
   "cell_type": "markdown",
   "id": "cf9bcffa",
   "metadata": {},
   "source": [
    "# Basic String Manipulation in Python\n",
    "\n",
    "In this notebook, we’ll cover:\n",
    "- Treating strings as sequences of characters\n",
    "- Indexing and slicing\n",
    "- Common string methods (`lower()`, `upper()`, `replace()`, etc.)\n",
    "- Concatenation and formatting\n",
    "- Practice exercises\n",
    "\n",
    "At the **end**, we’ll show how to use AI (with prompts/comments) to implement similar functionality.\n"
   ]
  },
  {
   "cell_type": "markdown",
   "id": "beee347c",
   "metadata": {},
   "source": [
    "## 1. Strings as Arrays of Characters\n",
    "In Python, a string is a sequence of characters, so you can access individual characters by **index** (starting at 0)."
   ]
  },
  {
   "cell_type": "code",
   "execution_count": null,
   "id": "adc84daf",
   "metadata": {},
   "outputs": [],
   "source": [
    "# Example of indexing\n",
    "my_string = \"Python\"\n",
    "first_letter = my_string[0]   # 'P'\n",
    "last_letter = my_string[-1]  # 'n'\n",
    "\n",
    "print(\"First letter:\", first_letter)\n",
    "print(\"Last letter:\", last_letter)"
   ]
  },
  {
   "cell_type": "markdown",
   "id": "ae71e07d",
   "metadata": {},
   "source": [
    "### Slicing\n",
    "You can extract a **substring** using the syntax `my_string[start:end]`."
   ]
  },
  {
   "cell_type": "code",
   "execution_count": null,
   "id": "d6db9693",
   "metadata": {},
   "outputs": [],
   "source": [
    "example = \"Hello, World!\"\n",
    "sub_hello = example[0:5]  # \"Hello\"\n",
    "sub_world = example[7:12] # \"World\"\n",
    "\n",
    "print(sub_hello, sub_world)\n",
    "\n",
    "# Slicing shortcuts\n",
    "print(example[:5])   # \"Hello\"\n",
    "print(example[7:])   # \"World!\""
   ]
  },
  {
   "cell_type": "markdown",
   "id": "fc747530",
   "metadata": {},
   "source": [
    "## 2. Common String Methods\n",
    "- **`.lower()`** / **`.upper()`**: Convert case.\n",
    "- **`.replace(old, new)`**: Replace occurrences of `old` with `new`.\n",
    "- **`.strip()`**: Remove leading/trailing whitespace.\n",
    "- **`.find(substring)`**: Returns the index of `substring` or `-1` if not found.\n",
    "- **`len(string)`**: Gets the string length."
   ]
  },
  {
   "cell_type": "code",
   "execution_count": null,
   "id": "760cd394",
   "metadata": {},
   "outputs": [],
   "source": [
    "text = \"   PyThOn Is cOOl!!!   \"\n",
    "print(\"Original:\", repr(text))\n",
    "\n",
    "# Strip whitespace\n",
    "cleaned = text.strip()\n",
    "print(\"Strip:\", repr(cleaned))\n",
    "\n",
    "# Lowercase\n",
    "lowered = cleaned.lower()\n",
    "print(\"Lowercased:\", lowered)\n",
    "\n",
    "# Replace \"cool\" with \"awesome\" (case sensitive, so 'cOOl' won't match!)\n",
    "replaced = lowered.replace(\"cool\", \"awesome\")\n",
    "print(\"Replaced:\", replaced)\n",
    "\n",
    "# Check length\n",
    "print(\"Length of replaced:\", len(replaced))"
   ]
  },
  {
   "cell_type": "markdown",
   "id": "5ffd5e11",
   "metadata": {},
   "source": [
    "## 3. Concatenation & Formatting\n",
    "### 3.1 Concatenation\n",
    "Join strings with the `+` operator."
   ]
  },
  {
   "cell_type": "code",
   "execution_count": null,
   "id": "ab1e36fc",
   "metadata": {},
   "outputs": [],
   "source": [
    "part1 = \"Hello\"\n",
    "part2 = \"World\"\n",
    "combined = part1 + \", \" + part2 + \"!\"\n",
    "print(combined)"
   ]
  },
  {
   "cell_type": "markdown",
   "id": "af27d324",
   "metadata": {},
   "source": [
    "### 3.2 Formatting (f-strings)\n",
    "If you use Python 3.6 or above, you can use **f-strings** for simpler formatting."
   ]
  },
  {
   "cell_type": "code",
   "execution_count": null,
   "id": "01312a76",
   "metadata": {},
   "outputs": [],
   "source": [
    "name = \"Alice\"\n",
    "age = 30\n",
    "info = f\"My name is {name} and I am {age} years old.\"\n",
    "print(info)"
   ]
  },
  {
   "cell_type": "markdown",
   "id": "c1c01298",
   "metadata": {},
   "source": [
    "## 4. Exercise: Putting It All Together\n",
    "1. Create a variable `raw_str = \"  PyThoN Is cOOl!!!   \"`.\n",
    "2. Print its length.\n",
    "3. Strip whitespace.\n",
    "4. Convert to lowercase.\n",
    "5. Replace \"cool\" (case-insensitive) with \"awesome\".\n",
    "6. Concatenate `\" 🤖\"` at the end.\n",
    "7. Print the final result."
   ]
  },
  {
   "cell_type": "code",
   "execution_count": null,
   "id": "1c7cd9a4",
   "metadata": {},
   "outputs": [],
   "source": [
    "# EXERCISE: Try it yourself first!\n",
    "# Below is one possible solution.\n",
    "\n",
    "raw_str = \"  PyThoN Is cOOl!!!   \"\n",
    "print(\"Length of raw_str:\", len(raw_str))\n",
    "\n",
    "cleaned_str = raw_str.strip()\n",
    "lowered_str = cleaned_str.lower()\n",
    "final_str = lowered_str.replace(\"cool\", \"awesome\")  # note that 'cOOl' won't match unless fully lower\n",
    "final_str += \" 🤖\"\n",
    "\n",
    "print(\"Final result:\", final_str)"
   ]
  },
  {
   "cell_type": "markdown",
   "id": "702458b6",
   "metadata": {},
   "source": [
    "_You would paste that prompt into your AI tool to generate code. Below is an example of what the AI might produce._"
   ]
  },
  {
   "cell_type": "code",
   "execution_count": null,
   "id": "415b1d46",
   "metadata": {},
   "outputs": [],
   "source": [
    "# (Example) AI-Generated Implementation\n",
    "raw_str = \"  PyThoN Is cOOl!!!   \"\n",
    "print(\"Length:\", len(raw_str))\n",
    "raw_str = raw_str.strip().lower().replace(\"cool\", \"awesome\")\n",
    "raw_str += \" 🤖\"\n",
    "print(\"Final:\", raw_str)"
   ]
  },
  {
   "cell_type": "markdown",
   "id": "advanced-string-manipulation",
   "metadata": {},
   "source": [
    "## 5. Advanced String Manipulation\n",
    "In this section, we’ll cover:\n",
    "- Regular Expressions\n",
    "- Advanced Formatting\n",
    "- Multi-line Strings\n"
   ]
  },
  {
   "cell_type": "markdown",
   "id": "regular-expressions",
   "metadata": {},
   "source": [
    "### 5.1 Regular Expressions\n",
    "Regular expressions (regex) allow you to search for patterns in strings. Python provides the `re` module for working with regex."
   ]
  },
  {
   "cell_type": "code",
   "execution_count": null,
   "id": "regex-example",
   "metadata": {},
   "outputs": [],
   "source": [
    "import re\n",
    "\n",
    "# Example: Find all words starting with 'a' or 'A'\n",
    "text = \"An apple a day keeps the doctor away.\"\n",
    "pattern = r'\\b[Aa]\\w*\\b'\n",
    "matches = re.findall(pattern, text)\n",
    "print(\"Words starting with 'a' or 'A':\", matches)"
   ]
  },
  {
   "cell_type": "markdown",
   "id": "advanced-formatting",
   "metadata": {},
   "source": [
    "### 5.2 Advanced Formatting\n",
    "Besides f-strings, Python offers other ways to format strings, such as the `format()` method and the `string.Template` class."
   ]
  },
  {
   "cell_type": "code",
   "execution_count": null,
   "id": "format-method",
   "metadata": {},
   "outputs": [],
   "source": [
    "# Using format() method\n",
    "name = \"Bob\"\n",
    "age = 25\n",
    "formatted_str = \"My name is {} and I am {} years old.\".format(name, age)\n",
    "print(formatted_str)\n",
    "\n",
    "# Using string.Template\n",
    "from string import Template\n",
    "template = Template(\"My name is $name and I am $age years old.\")\n",
    "formatted_str = template.substitute(name=name, age=age)\n",
    "print(formatted_str)"
   ]
  },
  {
   "cell_type": "markdown",
   "id": "multi-line-strings",
   "metadata": {},
   "source": [
    "### 5.3 Multi-line Strings\n",
    "You can create multi-line strings using triple quotes (`'''` or `\"\"\"`). This is useful for long strings or strings that span multiple lines."
   ]
  },
  {
   "cell_type": "code",
   "execution_count": null,
   "id": "multi-line-example",
   "metadata": {},
   "outputs": [],
   "source": [
    "# Multi-line string example\n",
    "multi_line_str = '''\n",
    "This is a multi-line string.\n",
    "It spans multiple lines.\n",
    "Useful for long texts.\n",
    "'''\n",
    "print(multi_line_str)"
   ]
  },
  {
   "cell_type": "markdown",
   "id": "f8de67d9",
   "metadata": {},
   "source": [
    "## 6. Using AI to Implement Similar Logic\n",
    "\n",
    "You’ve seen the **manual approach** to string manipulation. Now let’s imagine you have an AI tool (e.g., ChatGPT, GitHub Copilot) and want to prompt it to generate the same code.\n",
    "\n",
    "### AI Prompt (Comment)\n",
    "```\n",
    "# Generate a Python code snippet that:\n",
    "# 1. Defines raw_str = \"  PyThoN Is cOOl!!!   \"\n",
    "# 2. Prints its length.\n",
    "# 3. Strips whitespace, converts to lowercase, replaces \"cool\" with \"awesome\".\n",
    "# 4. Concatenates \" 🤖\" at the end.\n",
    "# 5. Prints the final result.\n",
    "```"
   ]
  }
 ],
 "metadata": {
  "kernelspec": {
   "display_name": ".conda",
   "language": "python",
   "name": "python3"
  },
  "language_info": {
   "name": "python",
   "version": "3.11.11"
  }
 },
 "nbformat": 4,
 "nbformat_minor": 5
}
