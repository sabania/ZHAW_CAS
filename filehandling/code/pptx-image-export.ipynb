{
 "cells": [
  {
   "cell_type": "markdown",
   "metadata": {},
   "source": [
    "# Extract Images from PowerPoint, Perform OCR, and Save to Excel\n",
    "\n",
    "This notebook demonstrates how to:\n",
    "1. **Export images** from a PowerPoint file (.pptx)\n",
    "2. **Apply OCR** to each extracted image (using Tesseract via `pytesseract`)\n",
    "3. **Store the results** (`ImageName : ExtractedText`) in an Excel file\n",
    "\n",
    "We’ll use:\n",
    "- [**python-pptx**](https://python-pptx.readthedocs.io/en/latest/) to parse and extract images from `.pptx`\n",
    "- [**pytesseract**](https://pypi.org/project/pytesseract/) plus [Tesseract OCR](https://github.com/tesseract-ocr/tesseract) to do the text extraction\n",
    "- [**pandas**](https://pandas.pydata.org/) to store results in a DataFrame and export to Excel\n",
    "\n",
    "## 1. Prerequisites & Installations\n",
    "1. **Python 3.7+** environment\n",
    "2. Install Python libraries:\n",
    "```bash\n",
    "pip install python-pptx pytesseract pandas openpyxl\n",
    "```\n",
    "3. **Tesseract OCR** installed on your system:\n",
    "   - Windows: [Download Tesseract installer](https://github.com/UB-Mannheim/tesseract/wiki)\n",
    "   - macOS: `brew install tesseract`\n",
    "   - Linux (Debian/Ubuntu): `sudo apt-get install tesseract-ocr`\n",
    "\n",
    "Make sure `tesseract --version` works in your command prompt/terminal."
   ]
  },
  {
   "cell_type": "markdown",
   "metadata": {},
   "source": [
    "## 2. Library Imports & Helper Setup\n",
    "We’ll import all required libraries in one cell. Also, ensure Tesseract’s executable is in your system PATH or specify its location (e.g., `pytesseract.pytesseract.tesseract_cmd = r\"C:\\Program Files\\Tesseract-OCR\\tesseract.exe\"`)."
   ]
  },
  {
   "cell_type": "code",
   "execution_count": 7,
   "metadata": {},
   "outputs": [],
   "source": [
    "import os\n",
    "from pptx import Presentation\n",
    "from pptx.enum.shapes import MSO_SHAPE_TYPE\n",
    "import pytesseract\n",
    "from PIL import Image\n",
    "import pandas as pd\n",
    "\n",
    "# If needed, specify the full path to tesseract:\n",
    "pytesseract.pytesseract.tesseract_cmd = r\"C:\\Program Files\\Tesseract-OCR\\tesseract.exe\""
   ]
  },
  {
   "cell_type": "markdown",
   "metadata": {},
   "source": [
    "## 3. Extract Images from PowerPoint\n",
    "Below is a code snippet that:\n",
    "1. Opens a PowerPoint file with `Presentation()`.\n",
    "2. Iterates over **slides** and **shapes**.\n",
    "3. If a shape is a **picture**, extract its **raw bytes** (`shape.image.blob`) and write to an image file.\n",
    "4. Records the image’s path and original name for later OCR."
   ]
  },
  {
   "cell_type": "code",
   "execution_count": 8,
   "metadata": {},
   "outputs": [],
   "source": [
    "def extract_images_from_pptx(pptx_file, output_folder=\"extracted_images\"):\n",
    "    os.makedirs(output_folder, exist_ok=True)\n",
    "    prs = Presentation(pptx_file)\n",
    "\n",
    "    image_info_list = []\n",
    "\n",
    "    for slide_idx, slide in enumerate(prs.slides, start=1):\n",
    "        for shape_idx, shape in enumerate(slide.shapes, start=1):\n",
    "            if shape.shape_type == MSO_SHAPE_TYPE.PICTURE:\n",
    "                image_bytes = shape.image.blob\n",
    "                filename = shape.image.filename  # original name if available\n",
    "                if not filename:\n",
    "                    filename = f\"slide{slide_idx}_shape{shape_idx}.png\"\n",
    "\n",
    "                image_path = os.path.join(output_folder, filename)\n",
    "                with open(image_path, \"wb\") as f:\n",
    "                    f.write(image_bytes)\n",
    "\n",
    "                image_info_list.append({\n",
    "                    \"image_path\": image_path,\n",
    "                    \"image_name\": filename,\n",
    "                    \"slide_index\": slide_idx\n",
    "                })\n",
    "\n",
    "    return image_info_list"
   ]
  },
  {
   "cell_type": "markdown",
   "metadata": {},
   "source": [
    "## 4. Performing OCR on Extracted Images\n",
    "We use `pytesseract.image_to_string` on each extracted image. We’ll gather results in a list of dictionaries for easy use.\n",
    "\n",
    "If images contain text in multiple languages, see `lang` parameter in `pytesseract.image_to_string()`."
   ]
  },
  {
   "cell_type": "code",
   "execution_count": 9,
   "metadata": {},
   "outputs": [],
   "source": [
    "def perform_ocr_on_images(image_info_list):\n",
    "    ocr_results = []\n",
    "    for info in image_info_list:\n",
    "        img_path = info[\"image_path\"]\n",
    "        img_name = info[\"image_name\"]\n",
    "\n",
    "        with Image.open(img_path) as img:\n",
    "            text_extracted = pytesseract.image_to_string(img)\n",
    "\n",
    "        # Clean up text\n",
    "        text_extracted = text_extracted.strip()\n",
    "\n",
    "        ocr_results.append({\n",
    "            \"ImageName\": img_name,\n",
    "            \"SlideIndex\": info[\"slide_index\"],\n",
    "            \"ExtractedText\": text_extracted\n",
    "        })\n",
    "\n",
    "    return ocr_results"
   ]
  },
  {
   "cell_type": "markdown",
   "metadata": {},
   "source": [
    "## 5. Saving Results to Excel\n",
    "We’ll create a Pandas DataFrame from the OCR results and write to an Excel file using `df.to_excel()`. The resulting file will have columns: `ImageName`, `SlideIndex`, `ExtractedText`."
   ]
  },
  {
   "cell_type": "code",
   "execution_count": 10,
   "metadata": {},
   "outputs": [],
   "source": [
    "def save_ocr_results_to_excel(ocr_results, excel_path=\"image_text_extraction.xlsx\"):\n",
    "    df = pd.DataFrame(ocr_results)\n",
    "    df.to_excel(excel_path, index=False)\n",
    "    print(f\"Saved OCR results to {excel_path}\")"
   ]
  },
  {
   "cell_type": "markdown",
   "metadata": {},
   "source": [
    "## 6. Putting It All Together\n",
    "Below is a **single function** that:\n",
    "1. Extracts images from `.pptx`.\n",
    "2. Runs OCR on each image.\n",
    "3. Saves the result to Excel.\n",
    "\n",
    "We’ll call this function with a sample `.pptx` file (replace with your actual path). Make sure Tesseract is installed and accessible!"
   ]
  },
  {
   "cell_type": "code",
   "execution_count": 11,
   "metadata": {},
   "outputs": [],
   "source": [
    "def extract_images_and_ocr_to_excel(pptx_file,\n",
    "                                  output_folder=\"extracted_images\",\n",
    "                                  output_excel=\"image_text_extraction.xlsx\"):\n",
    "    # 1) Extract images\n",
    "    image_info_list = extract_images_from_pptx(pptx_file, output_folder)\n",
    "    print(f\"Extracted {len(image_info_list)} images from {pptx_file}\")\n",
    "\n",
    "    # 2) Perform OCR\n",
    "    ocr_results = perform_ocr_on_images(image_info_list)\n",
    "    print(\"OCR completed.\")\n",
    "\n",
    "    # 3) Save to Excel\n",
    "    save_ocr_results_to_excel(ocr_results, excel_path=output_excel)\n",
    "    print(\"All steps finished!\")"
   ]
  },
  {
   "cell_type": "markdown",
   "metadata": {},
   "source": [
    "### Usage Example\n",
    "Uncomment and run the cell below (after placing your `.pptx` in the same folder or providing the full path)."
   ]
  },
  {
   "cell_type": "code",
   "execution_count": null,
   "metadata": {},
   "outputs": [],
   "source": [
    "pptx_file_path = \"../files/example.pptx\"  # Replace with your actual file\n",
    "extract_images_and_ocr_to_excel(pptx_file_path,\n",
    "                                 output_folder=\"extracted_images\",\n",
    "                                 output_excel=\"image_text_extraction.xlsx\")"
   ]
  },
  {
   "cell_type": "markdown",
   "metadata": {},
   "source": [
    "## 7. Tips & Troubleshooting\n",
    "1. **Check Tesseract Installation**: If you get `TesseractNotFoundError`, specify the path:\n",
    "```python\n",
    "pytesseract.pytesseract.tesseract_cmd = r\"C:\\\\Program Files\\\\Tesseract-OCR\\\\tesseract.exe\"\n",
    "```\n",
    "2. **Low Accuracy OCR**: Try image preprocessing (contrast, resizing) or ensure the text is clear. \n",
    "3. **Grouping / Flattening**: Some shapes in PPT might be grouped. If they aren’t recognized as pictures, consider ungrouping them in PowerPoint.\n",
    "4. **Performance**: For large PowerPoint decks with many images, OCR can be slow. Consider parallelization or more advanced OCR solutions.\n",
    "5. **Multiple Languages**: Use `pytesseract.image_to_string(img, lang='xxx')` if the text is in another language (install appropriate Tesseract language packs)."
   ]
  },
  {
   "cell_type": "markdown",
   "metadata": {},
   "source": [
    "## 8. Conclusion\n",
    "This notebook showcased how to:\n",
    "1. **Extract images** from `.pptx` slides with `python-pptx`.\n",
    "2. **Perform OCR** on each image via Tesseract (`pytesseract`).\n",
    "3. **Store** the extracted text in an **Excel** file using Pandas.\n",
    "\n",
    "This approach is invaluable if you need to **translate** or **localize** text embedded in images within PowerPoint slides. Once the text is extracted, you can provide it to translators or feed it into further automation.\n",
    "\n",
    "**Happy coding & OCR-ing!**"
   ]
  }
 ],
 "metadata": {
  "kernelspec": {
   "display_name": ".conda",
   "language": "python",
   "name": "python3"
  },
  "language_info": {
   "codemirror_mode": {
    "name": "ipython",
    "version": 3
   },
   "file_extension": ".py",
   "mimetype": "text/x-python",
   "name": "python",
   "nbconvert_exporter": "python",
   "pygments_lexer": "ipython3",
   "version": "3.11.11"
  }
 },
 "nbformat": 4,
 "nbformat_minor": 5
}
