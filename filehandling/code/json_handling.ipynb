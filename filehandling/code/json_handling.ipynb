{
 "cells": [
  {
   "cell_type": "markdown",
   "metadata": {},
   "source": [
    "# JSON Handling in Python for Translation & Localization\n",
    "\n",
    "Welcome to this **beginner-friendly** notebook on **JSON** handling in Python! We’ll cover:\n",
    "1. Basic concepts of JSON.\n",
    "2. Reading & parsing JSON using the built-in `json` library.\n",
    "3. Common operations: accessing, modifying, and splitting JSON data.\n",
    "4. **Hands-on exercises** with placeholders.\n",
    "5. An **AI prompt** example to generate code automatically.\n",
    "6. **Advanced Handling** with JSONPath or nested data structures—some cool stuff!\n",
    "\n",
    "JSON is often used in translation/localization workflows for storing key-value pairs of text (e.g., UI strings, configuration, or multi-language resources). Let's dive in!"
   ]
  },
  {
   "cell_type": "markdown",
   "metadata": {},
   "source": [
    "## 1. Introduction to JSON\n",
    "\n",
    "- **JSON (JavaScript Object Notation)** is a lightweight format for storing and transporting data.\n",
    "- It’s based on **key-value pairs** and **arrays**, making it easy to parse and generate.\n",
    "- Example:\n",
    "```json\n",
    "{\n",
    "  \"segment\": \"Hello\",\n",
    "  \"lang\": \"en\"\n",
    "}\n",
    "```\n",
    "Here, `segment` is a key, and `\"Hello\"` is its value. Similarly, `lang` is a key with value `\"en\"`.\n",
    "\n",
    "JSON is commonly used for **configuration** files, **web APIs**, and **localization** (like storing translations by language)."
   ]
  },
  {
   "cell_type": "markdown",
   "metadata": {},
   "source": [
    "## 2. Reading & Parsing JSON\n",
    "\n",
    "Python’s built-in `json` module allows you to **load** JSON from a file (or string) into a Python object, typically **dictionaries** and **lists**."
   ]
  },
  {
   "cell_type": "code",
   "metadata": {},
   "source": [
    "# Basic example of reading JSON\n",
    "import json\n",
    "\n",
    "with open('example.json', 'r', encoding='utf-8') as f:\n",
    "    data = json.load(f)  # data is now a Python dict/list structure\n",
    "\n",
    "print(type(data))\n",
    "print(data)"
   ],
   "execution_count": null,
   "outputs": []
  },
  {
   "cell_type": "markdown",
   "metadata": {},
   "source": [
    "### Anatomy of the Code\n",
    "- `json.load(f)`: Reads the file-like object `f` and **deserializes** the JSON into Python objects.\n",
    "- Typically, you’ll get a **dict** (for JSON objects) or a **list** (for JSON arrays)."
   ]
  },
  {
   "cell_type": "markdown",
   "metadata": {},
   "source": [
    "## 3. Accessing & Modifying JSON Data\n",
    "Once loaded, JSON data in Python behaves like normal dictionaries/lists, so you can use familiar operations to **access**, **modify**, or **delete** keys."
   ]
  },
  {
   "cell_type": "code",
   "metadata": {},
   "source": [
    "# Example: Suppose data is a dict with a 'segment' key and a 'lang' key.\n",
    "# We'll print them, modify them, then store them back to a file.\n",
    "\n",
    "print(\"Segment:\", data.get('segment'))  # e.g. 'Hello'\n",
    "print(\"Language:\", data.get('lang'))    # e.g. 'en'\n",
    "\n",
    "# Modify the language\n",
    "data['lang'] = 'de'\n",
    "print(\"Updated Language:\", data['lang'])\n",
    "\n",
    "# Save changes back to a file\n",
    "with open('modified_example.json', 'w', encoding='utf-8') as f:\n",
    "    json.dump(data, f, ensure_ascii=False, indent=2)\n",
    "\n",
    "print(\"JSON saved with updated language.\")"
   ],
   "execution_count": null,
   "outputs": []
  },
  {
   "cell_type": "markdown",
   "metadata": {},
   "source": [
    "### Real-Life Example\n",
    "- If you have a JSON file with **UI strings** (e.g., `{\"buttons\":{\"save\":\"Save\",\"cancel\":\"Cancel\"}}`), you can load it, adjust certain text, and save it back.\n",
    "- This is helpful for **translation** or **localization**—especially if each key is a language code or if nested structures contain language variants."
   ]
  },
  {
   "cell_type": "markdown",
   "metadata": {},
   "source": [
    "## 4. Splitting & Restructuring JSON for Translation\n",
    "If you have **multiple languages** in a single JSON, you might want to **split** them into separate files, or **extract** text for only one language.\n",
    "\n",
    "### Example: Multi-language JSON\n",
    "```json\n",
    "{\n",
    "  \"greetings\": {\n",
    "    \"en\": \"Hello\",\n",
    "    \"de\": \"Hallo\",\n",
    "    \"fr\": \"Bonjour\"\n",
    "  },\n",
    "  \"farewells\": {\n",
    "    \"en\": \"Goodbye\",\n",
    "    \"de\": \"Tschüss\",\n",
    "    \"fr\": \"Au revoir\"\n",
    "  }\n",
    "}\n",
    "```"
   ]
  },
  {
   "cell_type": "code",
   "metadata": {},
   "source": [
    "# Example code to split each language into separate JSON files.\n",
    "import json\n",
    "\n",
    "with open('multi_lang.json', 'r', encoding='utf-8') as f:\n",
    "    data = json.load(f)\n",
    "\n",
    "# Let's gather all languages by checking the keys in each category\n",
    "languages = set()\n",
    "for category, translations in data.items():\n",
    "    # 'translations' is a dict, e.g.: {\"en\": \"Hello\", \"de\": \"Hallo\", \"fr\": \"Bonjour\"}\n",
    "    for lang_code in translations.keys():\n",
    "        languages.add(lang_code)\n",
    "\n",
    "print(\"Languages found:\", languages)\n",
    "\n",
    "# Now build separate dicts for each language\n",
    "lang_dicts = {lang: {} for lang in languages}\n",
    "\n",
    "for category, translations in data.items():\n",
    "    for lang_code, text_value in translations.items():\n",
    "        if category not in lang_dicts[lang_code]:\n",
    "            lang_dicts[lang_code][category] = text_value\n",
    "        else:\n",
    "            # In case we want to merge or handle duplicates\n",
    "            lang_dicts[lang_code][category] = text_value\n",
    "\n",
    "# Write out each language file\n",
    "for lang_code, content in lang_dicts.items():\n",
    "    filename = f'{lang_code}_data.json'\n",
    "    with open(filename, 'w', encoding='utf-8') as f:\n",
    "        json.dump(content, f, ensure_ascii=False, indent=2)\n",
    "    print(f\"Wrote {filename} for language '{lang_code}'\")"
   ],
   "execution_count": null,
   "outputs": []
  },
  {
   "cell_type": "markdown",
   "metadata": {},
   "source": [
    "### Real-Life Example\n",
    "- If your JSON includes keys for multiple languages (e.g., `\"en\": \"Save\", \"de\": \"Speichern\"`), you can **split** them into `en_data.json`, `de_data.json`, etc.\n",
    "- Translators might only need the English text, so you can send them a file with just the English keys."
   ]
  },
  {
   "cell_type": "markdown",
   "metadata": {},
   "source": [
    "## 5. Hands-On Exercises\n",
    "\n",
    "**Goal**: Practice reading JSON, extracting info, and modifying it.\n",
    "\n",
    "### Exercise #1: Inspect & Modify\n",
    "1. Create a file named `my_example.json` with content like:\n",
    "```json\n",
    "{\n",
    "  \"segment\": \"Hello\",\n",
    "  \"lang\": \"en\",\n",
    "  \"note\": \"Sample text\"\n",
    "}\n",
    "```\n",
    "2. **Parse** the file with the `json` module.\n",
    "3. Print out each **key** and **value**.\n",
    "4. Set a new key `\"status\"` with the value `\"review\"`.\n",
    "5. Change the value of the `\"segment\"` to `\"Hi there\"`.\n",
    "6. **Save** to a new file `my_example_modified.json`."
   ]
  },
  {
   "cell_type": "code",
   "metadata": {},
   "source": [
    "# EXERCISE #1 (POSSIBLE SOLUTION SKELETON)\n",
    "import json\n",
    "\n",
    "with open('my_example.json', 'r', encoding='utf-8') as f:\n",
    "    data = json.load(f)\n",
    "\n",
    "# 1) Print out key-value pairs\n",
    "for key, value in data.items():\n",
    "    print(f\"{key}: {value}\")\n",
    "\n",
    "# 2) Set a new key 'status' = 'review'\n",
    "data['status'] = 'review'\n",
    "\n",
    "# 3) Change 'segment' to \"Hi there\"\n",
    "data['segment'] = \"Hi there\"\n",
    "\n",
    "# 4) Save\n",
    "with open('my_example_modified.json', 'w', encoding='utf-8') as f:\n",
    "    json.dump(data, f, ensure_ascii=False, indent=2)\n",
    "print(\"Exercise #1 done! Check 'my_example_modified.json'.\")"
   ],
   "execution_count": null,
   "outputs": []
  },
  {
   "cell_type": "markdown",
   "metadata": {},
   "source": [
    "### Exercise #2: Splitting by Language Keys\n",
    "1. Create `my_multilang.json` with multiple categories (e.g., `\"buttons\"`, `\"labels\"`) and within each, different languages (`\"en\"`, `\"de\"`, `\"fr\"`, etc.).\n",
    "2. Parse it.\n",
    "3. Group text by **language code**.\n",
    "4. Write each language group to a separate JSON file (`en_data.json`, `de_data.json`, etc.).\n",
    "5. **Hint**: Use a dictionary to collect keys and values for each language code."
   ]
  },
  {
   "cell_type": "code",
   "metadata": {},
   "source": [
    "# EXERCISE #2 (POSSIBLE SOLUTION OUTLINE)\n",
    "import json\n",
    "\n",
    "with open('my_multilang.json', 'r', encoding='utf-8') as f:\n",
    "    data = json.load(f)\n",
    "\n",
    "languages_found = set()\n",
    "for category, translations in data.items():\n",
    "    for lang_code in translations.keys():\n",
    "        languages_found.add(lang_code)\n",
    "\n",
    "lang_dicts = {lang: {} for lang in languages_found}\n",
    "\n",
    "for category, translations in data.items():\n",
    "    for lang_code, text_value in translations.items():\n",
    "        if category not in lang_dicts[lang_code]:\n",
    "            lang_dicts[lang_code][category] = text_value\n",
    "        else:\n",
    "            lang_dicts[lang_code][category] = text_value\n",
    "\n",
    "for lang_code, content in lang_dicts.items():\n",
    "    filename = f'{lang_code}_data.json'\n",
    "    with open(filename, 'w', encoding='utf-8') as f:\n",
    "        json.dump(content, f, ensure_ascii=False, indent=2)\n",
    "    print(f\"Wrote {filename} for language '{lang_code}'\")"
   ],
   "execution_count": null,
   "outputs": []
  },
  {
   "cell_type": "markdown",
   "metadata": {},
   "source": [
    "## 6. Using AI to Generate Similar Logic\n",
    "Now that you’ve learned how to manually parse and modify JSON, let’s see how an **AI** tool might help. Below is a **prompt** you could paste into ChatGPT or GitHub Copilot, followed by a possible AI-generated code snippet.\n",
    "\n",
    "### AI Prompt (Comment)\n",
    "```\n",
    "# Generate Python code using the json library to:\n",
    "# 1. Parse 'my_multilang.json'.\n",
    "# 2. Print each top-level key and its subkeys.\n",
    "# 3. Add a new key 'status' = 'pending' for each top-level object.\n",
    "# 4. Save the modified JSON to 'ai_modified.json'.\n",
    "```"
   ]
  },
  {
   "cell_type": "markdown",
   "metadata": {},
   "source": [
    "_Below is an example of what the AI might produce._"
   ]
  },
  {
   "cell_type": "code",
   "metadata": {},
   "source": [
    "# (Example) AI-Generated Implementation\n",
    "import json\n",
    "\n",
    "def ai_modify_json():\n",
    "    with open('my_multilang.json', 'r', encoding='utf-8') as f:\n",
    "        data = json.load(f)\n",
    "\n",
    "    for category, translations in data.items():\n",
    "        print(f\"Category: {category}\")\n",
    "        print(\"Subkeys:\", list(translations.keys()))\n",
    "        # Add a new key 'status'\n",
    "        translations['status'] = 'pending'\n",
    "\n",
    "    # Save back\n",
    "    with open('ai_modified.json', 'w', encoding='utf-8') as out:\n",
    "        json.dump(data, out, ensure_ascii=False, indent=2)\n",
    "\n",
    "    print(\"AI-based modification complete! Check 'ai_modified.json'.\")\n",
    "\n",
    "# Let's just call the function for demonstration\n",
    "ai_modify_json()"
   ],
   "execution_count": null,
   "outputs": []
  },
  {
   "cell_type": "markdown",
   "metadata": {},
   "source": [
    "## 7. Advanced Handling with JSONPath or Nested Data Structures\n",
    "\n",
    "While Python’s `json` module is great for basic read/write, sometimes you need more powerful **search** or **manipulation** of deeply nested structures. This is where something like **[JSONPath](https://pypi.org/project/jsonpath-ng/)** can help.\n",
    "\n",
    "### 7.1 Installing JSONPath-NG\n",
    "```bash\n",
    "pip install jsonpath-ng\n",
    "```\n",
    "\n",
    "### 7.2 Example with JSONPath\n",
    "```python\n",
    "from jsonpath_ng import parse\n",
    "import json\n",
    "\n",
    "data = {\n",
    "    \"segments\": [\n",
    "        {\"lang\": \"en\", \"text\": \"Hello\"},\n",
    "        {\"lang\": \"de\", \"text\": \"Hallo\"},\n",
    "        {\"lang\": \"fr\", \"text\": \"Bonjour\"}\n",
    "    ]\n",
    "}\n",
    "\n",
    "expression = parse(\"$.segments[?(@.lang == 'en')].text\")\n",
    "matches = expression.find(data)\n",
    "\n",
    "for match in matches:\n",
    "    print(\"EN text found:\", match.value)\n",
    "\n",
    "# You could then update that text:\n",
    "for match in matches:\n",
    "    # match.context is the location in the data structure\n",
    "    match.context.value['text'] = \"Hi there\"  # replace 'Hello' with 'Hi there'\n",
    "\n",
    "print(data)  # see the updated dictionary\n",
    "```\n",
    "\n",
    "JSONPath allows queries like:\n",
    "- `$.segments[*]` to find all items in `segments` array.\n",
    "- `$.segments[?(@.lang == 'en')]` to find all segments where `lang` is `'en'`.\n",
    "\n",
    "This can be very helpful if you have **deeply nested** or **complex** JSON structures for localization."
   ]
  },
  {
   "cell_type": "markdown",
   "metadata": {},
   "source": [
    "## 8. Summary & Next Steps\n",
    "You now have:\n",
    "1. A **basic understanding** of JSON structure and Python’s `json` module.\n",
    "2. **Hands-on** experience parsing, modifying, splitting, and merging JSON data.\n",
    "3. An introduction to how **AI** can auto-generate similar code.\n",
    "4. A glimpse of **advanced JSONPath** usage, which can be extremely powerful for large or complex data.\n",
    "\n",
    "**Next**:\n",
    "- Dive deeper into **JSONPath** or other libraries if your projects require complex queries or transformations.\n",
    "- Integrate these scripts with your **translation pipeline** to handle real-world, large-scale JSON documents.\n",
    "- Learn about **schema validation** (e.g., using `jsonschema`) if you need to ensure the JSON structure is correct.\n",
    "\n",
    "Happy JSON Handling!"
   ]
  }
 ],
 "metadata": {
  "kernelspec": {
   "display_name": "Python 3",
   "language": "python",
   "name": "python3"
  },
  "language_info": {
   "name": "python",
   "version": "3.9"
  }
 },
 "nbformat": 4,
 "nbformat_minor": 5
}
